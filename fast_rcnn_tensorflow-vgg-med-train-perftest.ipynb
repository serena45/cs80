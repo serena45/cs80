{
 "cells": [
  {
   "cell_type": "code",
   "execution_count": 1,
   "metadata": {
    "collapsed": false
   },
   "outputs": [],
   "source": [
    "import tensorflow as tf\n",
    "import numpy as np\n",
    "import matplotlib.pyplot as plt\n",
    "%matplotlib inline\n",
    "import os\n",
    "from matplotlib import patches\n",
    "from random import shuffle, randint\n",
    "\n",
    "import selectivesearch\n",
    "import skimage.data\n",
    "\n",
    "import matplotlib.patches as mpatches\n",
    "import time"
   ]
  },
  {
   "cell_type": "code",
   "execution_count": 2,
   "metadata": {
    "collapsed": true
   },
   "outputs": [],
   "source": [
    "import ipython_import"
   ]
  },
  {
   "cell_type": "code",
   "execution_count": 3,
   "metadata": {
    "collapsed": false
   },
   "outputs": [
    {
     "name": "stdout",
     "output_type": "stream",
     "text": [
      "importing IPython notebook from roi_pooling_importer.ipynb\n",
      "importing IPython notebook from VOC_import.ipynb\n"
     ]
    }
   ],
   "source": [
    "from roi_pooling_importer import import_roi_pooling_op\n",
    "import VOC_import"
   ]
  },
  {
   "cell_type": "code",
   "execution_count": 4,
   "metadata": {
    "collapsed": false
   },
   "outputs": [],
   "source": [
    "roi_pooling_op_dir = os.getenv(\"HOME\") + \"/packages/tensorflow/bazel-bin/tensorflow/core/user_ops/\"\n",
    "roi_pooling_op = import_roi_pooling_op(roi_pooling_op_dir)"
   ]
  },
  {
   "cell_type": "code",
   "execution_count": null,
   "metadata": {
    "collapsed": true
   },
   "outputs": [],
   "source": []
  },
  {
   "cell_type": "code",
   "execution_count": 5,
   "metadata": {
    "collapsed": false
   },
   "outputs": [],
   "source": [
    "# This will be trained with BGR images with pixels in range [-255, 255]\n",
    "# Takes a list of ROIs. Currently only handles one image at a time. \n",
    "# ROIs must be scaled with roi_scaling factor before input\n",
    "\n",
    "# The width and height of the image\n",
    "image_size = 224 # Must be divisible by the pooling layers\n",
    "\n",
    "# Image depth\n",
    "image_depth = 3\n",
    "\n",
    "# The batch size\n",
    "batch_size = 1\n",
    "\n",
    "# number of classes\n",
    "num_classes = 20\n",
    "num_classes_with_background = num_classes + 1\n",
    "\n",
    "# The number of region proposals\n",
    "#num_rois = 200\n",
    "\n",
    "# The scaling factor for ROIs - equivalent to the combined downsampling of all prior strided accesses\n",
    "# 4 (conv1) * 2 (pool1) * 2 (pool2) = 16\n",
    "roi_scaling = 16\n",
    "\n",
    "# Pixel means (probably for PASCAL VOC?) in BGR order\n",
    "pixel_means = np.array([[[102.9801, 115.9465, 122.7717]]])\n",
    "\n",
    "# Device to use\n",
    "device = \"cpu\""
   ]
  },
  {
   "cell_type": "code",
   "execution_count": 6,
   "metadata": {
    "collapsed": true
   },
   "outputs": [],
   "source": [
    "# TODO: background examples\n",
    "# TODO: fix data ordering to NCHW\n",
    "# TODO look at graph output in visualizer to make sure it looks right\n",
    "# TODO fix the default initializations of weights and biases if we want to train\n",
    "# TODO add dropout\n",
    "# TODO add weight decay"
   ]
  },
  {
   "cell_type": "code",
   "execution_count": 7,
   "metadata": {
    "collapsed": true
   },
   "outputs": [],
   "source": [
    "# Parameters to think about tweaking:\n",
    "# LRU: k, alpha, beta\n",
    "# Inputs: input image normalization, background examples, etc\n",
    "# Data ordering: NCHW vs NHWC\n",
    "# Outputs: add bounding box regression\n",
    "# Weights: initial values\n",
    "# Dropout, weight decay"
   ]
  },
  {
   "cell_type": "code",
   "execution_count": 8,
   "metadata": {
    "collapsed": true
   },
   "outputs": [],
   "source": [
    "# Helper functions for defining networks\n",
    "def weight_variable(shape, wd):\n",
    "    initial = tf.truncated_normal(shape, stddev=0.01)\n",
    "    weight_decay = tf.mul(tf.nn.l2_loss(initial), wd)\n",
    "    tf.add_to_collection('losses', weight_decay)\n",
    "    return tf.Variable(initial)\n",
    "\n",
    "def bias_variable(shape):\n",
    "    initial = tf.constant(0.0, shape=shape)\n",
    "    return tf.Variable(initial)\n",
    "\n",
    "def conv2d(x, W, stride):\n",
    "    return tf.nn.conv2d(x, W, strides=[1, stride, stride, 1], padding='SAME')\n",
    "\n",
    "def max_pool(x, kernel_size, stride):\n",
    "    return tf.nn.max_pool(x, ksize=[1, kernel_size, kernel_size, 1],\n",
    "                        strides=[1, stride, stride, 1], padding='SAME')\n",
    "\n",
    "def local_response_normalization(x):\n",
    "    # TODO is 5 the correct radius?\n",
    "    return tf.nn.local_response_normalization(x, depth_radius=5, alpha=.0001, beta=.75, bias=2)"
   ]
  },
  {
   "cell_type": "code",
   "execution_count": 9,
   "metadata": {
    "collapsed": false
   },
   "outputs": [],
   "source": [
    "# Something like Alexnet\n",
    "sess = tf.InteractiveSession(config=tf.ConfigProto(\n",
    "    allow_soft_placement=True, log_device_placement=True))\n",
    "\n",
    "with tf.device(\"/{}:0\".format(device)):\n",
    "    \n",
    "    # Batched input\n",
    "    input_data_tensor = tf.placeholder(tf.float32, shape=[None, image_size, image_size, image_depth], name=\"Input_Image_Batch\") # batch size, image size, image size, image depth\n",
    "    y_ = tf.placeholder(tf.int32, shape=[None], name=\"Input_Classes\") # index of the correct class for each ROI\n",
    "    rois_in = tf.placeholder(tf.int32, shape=[None, 4], name=\"Input_ROIs\")\n",
    "    rois = tf.reshape(rois_in, [1, -1, 4])\n",
    "\n",
    "    # First Convolutional Layer\n",
    "    # Variables\n",
    "    W_conv1 = weight_variable([7, 7, image_depth, 96], wd=0.0) # filter size, filter size, input channels (image depth), output channels\n",
    "    b_conv1 = bias_variable([96])\n",
    "    # Layers\n",
    "    conv1 = conv2d(input_data_tensor, W_conv1, stride=2)\n",
    "    relu1 = tf.nn.relu(conv1 + b_conv1)\n",
    "    norm1 = local_response_normalization(relu1)\n",
    "    pool1 = max_pool(norm1, kernel_size=3, stride=2)\n",
    "\n",
    "    # Second Convolutional Layer\n",
    "    # Variables\n",
    "    W_conv2 = weight_variable([5, 5, 96, 256], wd=0.0) # filter size, filter size, input channels (image depth), output channels\n",
    "    b_conv2 = bias_variable([256])\n",
    "    # Layers\n",
    "    conv2 = conv2d(pool1, W_conv2, stride=2)\n",
    "    relu2 = tf.nn.relu(conv2 + b_conv2)\n",
    "    # error was here\n",
    "    norm2 = local_response_normalization(relu2)\n",
    "    pool2 = max_pool(norm2, kernel_size=3, stride=2)\n",
    "\n",
    "    # Third Convolutional Layer\n",
    "    # Variables\n",
    "    W_conv3 = weight_variable([3, 3, 256, 512], wd=0.0) # filter size, filter size, input channels (image depth), output channels\n",
    "    b_conv3 = bias_variable([512])\n",
    "    # Layers\n",
    "    conv3 = conv2d(pool2, W_conv3, stride=1)\n",
    "    relu3 = tf.nn.relu(conv3 + b_conv3)\n",
    "\n",
    "    # Fourth Convolutional Layer\n",
    "    # Variables\n",
    "    # Variables\n",
    "    W_conv4 = weight_variable([3, 3, 512, 512], wd=0.0) # filter size, filter size, input channels (image depth), output channels\n",
    "    b_conv4 = bias_variable([512])\n",
    "    # Layers\n",
    "    conv4 = conv2d(relu3, W_conv4, stride=1)\n",
    "    relu4 = tf.nn.relu(conv4 + b_conv4)\n",
    "\n",
    "    # Fifth Convolutional Layer\n",
    "    # Variables\n",
    "    W_conv5 = weight_variable([3, 3, 512, 512], wd=0.0) # filter size, filter size, input channels (image depth), output channels\n",
    "    b_conv5 = bias_variable([512])\n",
    "    # Layers\n",
    "    conv5 = conv2d(relu4, W_conv5, stride=1)\n",
    "    relu5 = tf.nn.relu(conv5 + b_conv5)\n",
    "\n",
    "    # ROI pooling to an output feature map of 6x6\n",
    "    # Convert NHWC to NCHW\n",
    "    relu5_transpose = tf.transpose(relu5, [0, 3, 1, 2])\n",
    "    output_dim_tensor = tf.constant((6,6))\n",
    "    roi_pool5, argmax = roi_pooling_op(relu5_transpose, rois, output_dim_tensor)\n",
    "\n",
    "    # ROI pooling outputs in NCRHW. Not sure what FC is expecting. \n",
    "    # Caffe layer appears to do NRCHW. Not sure about NR vs RN, but doesn't matter for single image.\n",
    "    roi_pool5_transpose = tf.transpose(roi_pool5, [0, 2, 1, 3, 4])\n",
    "    \n",
    "    # We need to bring this down to 4-d - collapse the ROI and batch together somehow.\n",
    "    # Should be redundant with next reshape, but whatever\n",
    "    roi_pool5_reshaped = tf.reshape(roi_pool5_transpose, (-1, 512, 6, 6))\n",
    "\n",
    "    # Fully Connected 1\n",
    "    # Weights\n",
    "    # Weight variable is sized to match num_rois * roi_pooling_feature_length (6 x 6)\n",
    "    W_fc6 = weight_variable([512 * 6 * 6, 4096], wd=0.0)\n",
    "    b_fc6 = bias_variable([4096])\n",
    "    # Layers\n",
    "    roi_pool5_flat = tf.reshape(roi_pool5_reshaped, [-1, 6 * 6 * 512])\n",
    "    fc6 = tf.matmul(roi_pool5_flat, W_fc6)\n",
    "    relu6 = tf.nn.relu(fc6 + b_fc6)\n",
    "\n",
    "    # TODO dropout if we want to train\n",
    "\n",
    "    # Fully Connected 2\n",
    "    # Weights\n",
    "    W_fc7 = weight_variable([4096, 1024], wd=0.004)\n",
    "    b_fc7 = bias_variable([1024])\n",
    "    # Layers\n",
    "    fc7 = tf.matmul(relu6, W_fc7)\n",
    "    relu7 = tf.nn.relu(fc7 + b_fc7)\n",
    "\n",
    "    # TODO dropout if we want to train\n",
    "\n",
    "\n",
    "    # Classification Score\n",
    "    # Weights\n",
    "    W_cls = weight_variable([1024, num_classes_with_background], wd=0.0)\n",
    "    b_cls = bias_variable([num_classes_with_background])\n",
    "    # Layers\n",
    "    cls_score = tf.matmul(relu7, W_cls) + b_cls\n",
    "    cls_prob=tf.nn.softmax(cls_score)\n",
    "    \n",
    "    # Loss function\n",
    "    # Cross entropy. Note - inputs are unscaled (not softmax output). y_'s are indexes, not vectors\n",
    "    cross_entropy = tf.nn.sparse_softmax_cross_entropy_with_logits(cls_score, y_, name=None)\n",
    "    cross_entropy_loss = tf.nn.l2_loss(cross_entropy)\n",
    "    \n",
    "    # Optimizer\n",
    "    learning_rate_tf = tf.placeholder(tf.float32)\n",
    "    opt = tf.train.GradientDescentOptimizer(learning_rate=learning_rate_tf)\n",
    "    \n",
    "    # Minimize wrt specified variables. If var_list not specified, uses all variables?\n",
    "    variables_to_optimize = [W_cls, b_cls, W_fc7, b_fc7, W_fc6, b_fc6]\n",
    "    opt_top_op = opt.minimize(cross_entropy_loss, var_list=variables_to_optimize)\n",
    "    opt_all_op = opt.minimize(cross_entropy_loss)\n",
    "    \n",
    "    # Evaluation\n",
    "    num_rois_tf = tf.placeholder(tf.float32)\n",
    "    top_k = tf.nn.in_top_k(cls_score, y_, 3)\n",
    "    top_k_sum = tf.reduce_sum(tf.cast(top_k, tf.float32))\n",
    "    top_k_percent = tf.div(top_k_sum, num_rois_tf)"
   ]
  },
  {
   "cell_type": "code",
   "execution_count": 10,
   "metadata": {
    "collapsed": true
   },
   "outputs": [],
   "source": [
    "with tf.device(\"/{}:0\".format(device)):\n",
    "    sess.run(tf.initialize_all_variables())"
   ]
  },
  {
   "cell_type": "code",
   "execution_count": null,
   "metadata": {
    "collapsed": false
   },
   "outputs": [],
   "source": []
  },
  {
   "cell_type": "code",
   "execution_count": 11,
   "metadata": {
    "collapsed": false
   },
   "outputs": [],
   "source": [
    "imported_weights = np.load(\"model_med.numpy\", fix_imports=True, encoding=\"bytes\").tolist()\n",
    "\n",
    "with tf.device(\"/{}:0\".format(device)):\n",
    "    assign_ops = []\n",
    "    # Not sure what b prefix on string does.. seems necessary tho\n",
    "    assign_ops.append(W_conv1.assign(imported_weights[\"conv1\"][b\"weights\"]))\n",
    "    assign_ops.append(b_conv1.assign(imported_weights[\"conv1\"][b\"biases\"]))\n",
    "    assign_ops.append(W_conv2.assign(imported_weights[\"conv2\"][b\"weights\"]))\n",
    "    assign_ops.append(b_conv2.assign(imported_weights[\"conv2\"][b\"biases\"]))\n",
    "    assign_ops.append(W_conv3.assign(imported_weights[\"conv3\"][b\"weights\"]))\n",
    "    assign_ops.append(b_conv3.assign(imported_weights[\"conv3\"][b\"biases\"]))\n",
    "    assign_ops.append(W_conv4.assign(imported_weights[\"conv4\"][b\"weights\"]))\n",
    "    assign_ops.append(b_conv4.assign(imported_weights[\"conv4\"][b\"biases\"]))\n",
    "    assign_ops.append(W_conv5.assign(imported_weights[\"conv5\"][b\"weights\"]))\n",
    "    assign_ops.append(b_conv5.assign(imported_weights[\"conv5\"][b\"biases\"]))\n",
    "\n",
    "    #assign_ops.append(W_fc6.assign(imported_weights[\"fc6\"][b\"weights\"]))\n",
    "    #assign_ops.append(b_fc6.assign(imported_weights[\"fc6\"][b\"biases\"]))\n",
    "    #assign_ops.append(W_fc7.assign(imported_weights[\"fc7\"][b\"weights\"]))\n",
    "    #assign_ops.append(b_fc7.assign(imported_weights[\"fc7\"][b\"biases\"]))\n",
    "\n",
    "    #assign_ops.append(W_cls.assign(imported_weights[\"cls_score\"][b\"weights\"]))\n",
    "    #assign_ops.append(b_cls.assign(imported_weights[\"cls_score\"][b\"biases\"]))\n",
    "\n",
    "    for op in assign_ops:\n",
    "        sess.run(op)"
   ]
  },
  {
   "cell_type": "code",
   "execution_count": null,
   "metadata": {
    "collapsed": true
   },
   "outputs": [],
   "source": []
  },
  {
   "cell_type": "code",
   "execution_count": 12,
   "metadata": {
    "collapsed": false
   },
   "outputs": [],
   "source": [
    "#asdf"
   ]
  },
  {
   "cell_type": "code",
   "execution_count": 13,
   "metadata": {
    "collapsed": true
   },
   "outputs": [],
   "source": [
    "def runningMeanFast(x, N):\n",
    "    return np.convolve(x, np.ones((N,))/N)[(N-1):]\n",
    "\n",
    "def get_inputs(sample_type):\n",
    "    if sample_type == \"train\":\n",
    "        img, roi = next(train_sample_generator)\n",
    "    else:\n",
    "        img, roi = next(test_sample_generator)\n",
    "    \n",
    "    input_data = img.reshape(batch_size, image_size, image_size, image_depth)\n",
    "    input_rois = np.asarray(roi[0]).reshape(len(roi[0]), 4)\n",
    "    # Scale ROIs to pooled size\n",
    "    input_rois = (input_rois / roi_scaling).astype(np.int32)\n",
    "    input_classes = np.asarray(roi[1])\n",
    "    \n",
    "    return input_data, input_rois, input_classes"
   ]
  },
  {
   "cell_type": "code",
   "execution_count": 14,
   "metadata": {
    "collapsed": false
   },
   "outputs": [],
   "source": [
    "stats = []\n",
    "i = 0"
   ]
  },
  {
   "cell_type": "code",
   "execution_count": 15,
   "metadata": {
    "collapsed": true
   },
   "outputs": [],
   "source": [
    "train_sample_generator = VOC_import.get_train_sample()\n",
    "test_sample_generator = VOC_import.get_val_sample()"
   ]
  },
  {
   "cell_type": "code",
   "execution_count": 16,
   "metadata": {
    "collapsed": true
   },
   "outputs": [],
   "source": [
    "#opt_op = opt_all_op\n",
    "opt_op = opt_top_op"
   ]
  },
  {
   "cell_type": "code",
   "execution_count": null,
   "metadata": {
    "collapsed": false
   },
   "outputs": [],
   "source": []
  },
  {
   "cell_type": "code",
   "execution_count": 18,
   "metadata": {
    "collapsed": false
   },
   "outputs": [
    {
     "name": "stdout",
     "output_type": "stream",
     "text": [
      "3.906250476837158\n"
     ]
    }
   ],
   "source": [
    "train_sample_generator = VOC_import.get_train_sample()\n",
    "test_sample_generator = VOC_import.get_val_sample()\n",
    "\n",
    "\n",
    "clk = time.time()\n",
    "input_data = np.random.random((1, 224, 224, 3)).astype(np.float32)\n",
    "input_rois = np.zeros((200,4))\n",
    "\n",
    "for x in range(100):\n",
    "    learning_rate = .00008\n",
    "    \n",
    "    with tf.device(\"/{}:0\".format(device)):\n",
    "        sess.run(relu5, feed_dict={learning_rate_tf:learning_rate, input_data_tensor:input_data, \n",
    "                                     rois_in:input_rois, num_rois_tf:len(input_rois)})\n",
    "\n",
    "    \n",
    "    \n",
    "    i += 1\n",
    "print(time.time() - clk)"
   ]
  },
  {
   "cell_type": "code",
   "execution_count": 19,
   "metadata": {
    "collapsed": false
   },
   "outputs": [
    {
     "name": "stdout",
     "output_type": "stream",
     "text": [
      "1.1851153373718262\n"
     ]
    }
   ],
   "source": [
    "train_sample_generator = VOC_import.get_train_sample()\n",
    "test_sample_generator = VOC_import.get_val_sample()\n",
    "clk = time.time()\n",
    "\n",
    "\n",
    "input_data = np.random.random((1, 224, 224, 3)).astype(np.float32)\n",
    "input_rois = np.zeros((1,4))\n",
    "\n",
    "for x in range(25):\n",
    "    learning_rate = .00008\n",
    "\n",
    " \n",
    "    \n",
    "    with tf.device(\"/{}:0\".format(device)):\n",
    "        sess.run(roi_pool5_reshaped, feed_dict={learning_rate_tf:learning_rate, input_data_tensor:input_data, \n",
    "                                     rois_in:input_rois, num_rois_tf:len(input_rois)})\n",
    "\n",
    "    \n",
    "    \n",
    "    i += 1\n",
    "print(time.time() - clk)"
   ]
  },
  {
   "cell_type": "code",
   "execution_count": null,
   "metadata": {
    "collapsed": true
   },
   "outputs": [],
   "source": [
    "#cls_prob"
   ]
  },
  {
   "cell_type": "code",
   "execution_count": 20,
   "metadata": {
    "collapsed": false
   },
   "outputs": [
    {
     "ename": "KeyboardInterrupt",
     "evalue": "",
     "output_type": "error",
     "traceback": [
      "\u001b[1;31m---------------------------------------------------------------------------\u001b[0m",
      "\u001b[1;31mKeyboardInterrupt\u001b[0m                         Traceback (most recent call last)",
      "\u001b[1;32m<ipython-input-20-fedb5b1d89fd>\u001b[0m in \u001b[0;36m<module>\u001b[1;34m()\u001b[0m\n\u001b[0;32m     12\u001b[0m     \u001b[1;32mwith\u001b[0m \u001b[0mtf\u001b[0m\u001b[1;33m.\u001b[0m\u001b[0mdevice\u001b[0m\u001b[1;33m(\u001b[0m\u001b[1;34m\"/{}:0\"\u001b[0m\u001b[1;33m.\u001b[0m\u001b[0mformat\u001b[0m\u001b[1;33m(\u001b[0m\u001b[0mdevice\u001b[0m\u001b[1;33m)\u001b[0m\u001b[1;33m)\u001b[0m\u001b[1;33m:\u001b[0m\u001b[1;33m\u001b[0m\u001b[0m\n\u001b[0;32m     13\u001b[0m         sess.run(cls_prob, feed_dict={learning_rate_tf:learning_rate, input_data_tensor:input_data, \n\u001b[1;32m---> 14\u001b[1;33m                                      rois_in:input_rois, num_rois_tf:len(input_rois)})\n\u001b[0m\u001b[0;32m     15\u001b[0m \u001b[1;33m\u001b[0m\u001b[0m\n\u001b[0;32m     16\u001b[0m \u001b[1;33m\u001b[0m\u001b[0m\n",
      "\u001b[1;32m/home/zack/packages/tensorflow/_python_build/tensorflow/python/client/session.py\u001b[0m in \u001b[0;36mrun\u001b[1;34m(self, fetches, feed_dict, options, run_metadata)\u001b[0m\n\u001b[0;32m    331\u001b[0m     \u001b[1;32mtry\u001b[0m\u001b[1;33m:\u001b[0m\u001b[1;33m\u001b[0m\u001b[0m\n\u001b[0;32m    332\u001b[0m       result = self._run(None, fetches, feed_dict, options_ptr,\n\u001b[1;32m--> 333\u001b[1;33m                          run_metadata_ptr)\n\u001b[0m\u001b[0;32m    334\u001b[0m       \u001b[1;32mif\u001b[0m \u001b[0mrun_metadata\u001b[0m\u001b[1;33m:\u001b[0m\u001b[1;33m\u001b[0m\u001b[0m\n\u001b[0;32m    335\u001b[0m         \u001b[0mproto_data\u001b[0m \u001b[1;33m=\u001b[0m \u001b[0mtf_session\u001b[0m\u001b[1;33m.\u001b[0m\u001b[0mTF_GetBuffer\u001b[0m\u001b[1;33m(\u001b[0m\u001b[0mrun_metadata_ptr\u001b[0m\u001b[1;33m)\u001b[0m\u001b[1;33m\u001b[0m\u001b[0m\n",
      "\u001b[1;32m/home/zack/packages/tensorflow/_python_build/tensorflow/python/client/session.py\u001b[0m in \u001b[0;36m_run\u001b[1;34m(self, handle, fetches, feed_dict, options, run_metadata)\u001b[0m\n\u001b[0;32m    571\u001b[0m     \u001b[1;32mtry\u001b[0m\u001b[1;33m:\u001b[0m\u001b[1;33m\u001b[0m\u001b[0m\n\u001b[0;32m    572\u001b[0m       results = self._do_run(handle, target_list, unique_fetches,\n\u001b[1;32m--> 573\u001b[1;33m                              feed_dict_string, options, run_metadata)\n\u001b[0m\u001b[0;32m    574\u001b[0m     \u001b[1;32mfinally\u001b[0m\u001b[1;33m:\u001b[0m\u001b[1;33m\u001b[0m\u001b[0m\n\u001b[0;32m    575\u001b[0m       \u001b[1;31m# The movers are no longer used. Delete them.\u001b[0m\u001b[1;33m\u001b[0m\u001b[1;33m\u001b[0m\u001b[0m\n",
      "\u001b[1;32m/home/zack/packages/tensorflow/_python_build/tensorflow/python/client/session.py\u001b[0m in \u001b[0;36m_do_run\u001b[1;34m(self, handle, target_list, fetch_list, feed_dict, options, run_metadata)\u001b[0m\n\u001b[0;32m    646\u001b[0m     \u001b[1;32mif\u001b[0m \u001b[0mhandle\u001b[0m \u001b[1;32mis\u001b[0m \u001b[1;32mNone\u001b[0m\u001b[1;33m:\u001b[0m\u001b[1;33m\u001b[0m\u001b[0m\n\u001b[0;32m    647\u001b[0m       return self._do_call(_run_fn, self._session, feed_dict, fetch_list,\n\u001b[1;32m--> 648\u001b[1;33m                            target_list, options, run_metadata)\n\u001b[0m\u001b[0;32m    649\u001b[0m     \u001b[1;32melse\u001b[0m\u001b[1;33m:\u001b[0m\u001b[1;33m\u001b[0m\u001b[0m\n\u001b[0;32m    650\u001b[0m       return self._do_call(_prun_fn, self._session, handle, feed_dict,\n",
      "\u001b[1;32m/home/zack/packages/tensorflow/_python_build/tensorflow/python/client/session.py\u001b[0m in \u001b[0;36m_do_call\u001b[1;34m(self, fn, *args)\u001b[0m\n\u001b[0;32m    653\u001b[0m   \u001b[1;32mdef\u001b[0m \u001b[0m_do_call\u001b[0m\u001b[1;33m(\u001b[0m\u001b[0mself\u001b[0m\u001b[1;33m,\u001b[0m \u001b[0mfn\u001b[0m\u001b[1;33m,\u001b[0m \u001b[1;33m*\u001b[0m\u001b[0margs\u001b[0m\u001b[1;33m)\u001b[0m\u001b[1;33m:\u001b[0m\u001b[1;33m\u001b[0m\u001b[0m\n\u001b[0;32m    654\u001b[0m     \u001b[1;32mtry\u001b[0m\u001b[1;33m:\u001b[0m\u001b[1;33m\u001b[0m\u001b[0m\n\u001b[1;32m--> 655\u001b[1;33m       \u001b[1;32mreturn\u001b[0m \u001b[0mfn\u001b[0m\u001b[1;33m(\u001b[0m\u001b[1;33m*\u001b[0m\u001b[0margs\u001b[0m\u001b[1;33m)\u001b[0m\u001b[1;33m\u001b[0m\u001b[0m\n\u001b[0m\u001b[0;32m    656\u001b[0m     \u001b[1;32mexcept\u001b[0m \u001b[0merrors\u001b[0m\u001b[1;33m.\u001b[0m\u001b[0mOpError\u001b[0m \u001b[1;32mas\u001b[0m \u001b[0me\u001b[0m\u001b[1;33m:\u001b[0m\u001b[1;33m\u001b[0m\u001b[0m\n\u001b[0;32m    657\u001b[0m       \u001b[0mmessage\u001b[0m \u001b[1;33m=\u001b[0m \u001b[0mcompat\u001b[0m\u001b[1;33m.\u001b[0m\u001b[0mas_text\u001b[0m\u001b[1;33m(\u001b[0m\u001b[0me\u001b[0m\u001b[1;33m.\u001b[0m\u001b[0mmessage\u001b[0m\u001b[1;33m)\u001b[0m\u001b[1;33m\u001b[0m\u001b[0m\n",
      "\u001b[1;32m/home/zack/packages/tensorflow/_python_build/tensorflow/python/client/session.py\u001b[0m in \u001b[0;36m_run_fn\u001b[1;34m(session, feed_dict, fetch_list, target_list, options, run_metadata)\u001b[0m\n\u001b[0;32m    635\u001b[0m         return tf_session.TF_Run(session, options,\n\u001b[0;32m    636\u001b[0m                                  \u001b[0mfeed_dict\u001b[0m\u001b[1;33m,\u001b[0m \u001b[0mfetch_list\u001b[0m\u001b[1;33m,\u001b[0m \u001b[0mtarget_list\u001b[0m\u001b[1;33m,\u001b[0m\u001b[1;33m\u001b[0m\u001b[0m\n\u001b[1;32m--> 637\u001b[1;33m                                  status, run_metadata)\n\u001b[0m\u001b[0;32m    638\u001b[0m \u001b[1;33m\u001b[0m\u001b[0m\n\u001b[0;32m    639\u001b[0m     \u001b[1;32mdef\u001b[0m \u001b[0m_prun_fn\u001b[0m\u001b[1;33m(\u001b[0m\u001b[0msession\u001b[0m\u001b[1;33m,\u001b[0m \u001b[0mhandle\u001b[0m\u001b[1;33m,\u001b[0m \u001b[0mfeed_dict\u001b[0m\u001b[1;33m,\u001b[0m \u001b[0mfetch_list\u001b[0m\u001b[1;33m)\u001b[0m\u001b[1;33m:\u001b[0m\u001b[1;33m\u001b[0m\u001b[0m\n",
      "\u001b[1;31mKeyboardInterrupt\u001b[0m: "
     ]
    }
   ],
   "source": [
    "train_sample_generator = VOC_import.get_train_sample()\n",
    "test_sample_generator = VOC_import.get_val_sample()\n",
    "clk = time.time()\n",
    "\n",
    "input_data = np.random.random((1, 224, 224, 3)).astype(np.float32)\n",
    "input_rois = np.zeros((200,4))\n",
    "\n",
    "for x in range(100):\n",
    "    learning_rate = .00008\n",
    "\n",
    "\n",
    "    with tf.device(\"/{}:0\".format(device)):\n",
    "        sess.run(cls_prob, feed_dict={learning_rate_tf:learning_rate, input_data_tensor:input_data, \n",
    "                                     rois_in:input_rois, num_rois_tf:len(input_rois)})\n",
    "\n",
    "    \n",
    "    \n",
    "    i += 1\n",
    "print(time.time() - clk)"
   ]
  },
  {
   "cell_type": "code",
   "execution_count": null,
   "metadata": {
    "collapsed": false
   },
   "outputs": [],
   "source": [
    "train_sample_generator = VOC_import.get_train_sample()\n",
    "test_sample_generator = VOC_import.get_val_sample()\n",
    "clk = time.time()\n",
    "\n",
    "input_data = np.random.random((1, 224, 224, 3)).astype(np.float32)\n",
    "input_rois = np.zeros((1,4))\n",
    "\n",
    "for x in range(100):\n",
    "    learning_rate = .00008\n",
    "\n",
    "\n",
    "    with tf.device(\"/{}:0\".format(device)):\n",
    "        sess.run(cls_prob, feed_dict={learning_rate_tf:learning_rate, input_data_tensor:input_data, \n",
    "                                    rois_in:input_rois, num_rois_tf:len(input_rois)})\n",
    "\n",
    "    \n",
    "    \n",
    "    i += 1\n",
    "print(time.time() - clk)"
   ]
  },
  {
   "cell_type": "code",
   "execution_count": 21,
   "metadata": {
    "collapsed": false
   },
   "outputs": [
    {
     "name": "stdout",
     "output_type": "stream",
     "text": [
      "1 iterations took 0.20767712593078613\n",
      "11 iterations took 0.19229388236999512\n",
      "21 iterations took 0.21101117134094238\n",
      "31 iterations took 0.20078778266906738\n",
      "41 iterations took 0.24199914932250977\n",
      "51 iterations took 0.22094297409057617\n",
      "61 iterations took 0.18572378158569336\n",
      "71 iterations took 0.18959951400756836\n",
      "81 iterations took 0.1825709342956543\n",
      "91 iterations took 0.18865561485290527\n",
      "101 iterations took 0.18597960472106934\n",
      "111 iterations took 0.18651247024536133\n",
      "121 iterations took 0.1845870018005371\n",
      "131 iterations took 0.19179129600524902\n",
      "141 iterations took 0.18169927597045898\n",
      "151 iterations took 0.18555402755737305\n",
      "161 iterations took 0.18239450454711914\n",
      "171 iterations took 0.188079833984375\n",
      "181 iterations took 0.18012762069702148\n",
      "191 iterations took 0.1884005069732666\n"
     ]
    },
    {
     "ename": "KeyboardInterrupt",
     "evalue": "",
     "output_type": "error",
     "traceback": [
      "\u001b[1;31m---------------------------------------------------------------------------\u001b[0m",
      "\u001b[1;31mKeyboardInterrupt\u001b[0m                         Traceback (most recent call last)",
      "\u001b[1;32m<ipython-input-21-d525333e3278>\u001b[0m in \u001b[0;36m<module>\u001b[1;34m()\u001b[0m\n\u001b[0;32m     17\u001b[0m         \u001b[1;32mwith\u001b[0m \u001b[0mtf\u001b[0m\u001b[1;33m.\u001b[0m\u001b[0mdevice\u001b[0m\u001b[1;33m(\u001b[0m\u001b[1;34m\"/{}:0\"\u001b[0m\u001b[1;33m.\u001b[0m\u001b[0mformat\u001b[0m\u001b[1;33m(\u001b[0m\u001b[0mdevice\u001b[0m\u001b[1;33m)\u001b[0m\u001b[1;33m)\u001b[0m\u001b[1;33m:\u001b[0m\u001b[1;33m\u001b[0m\u001b[0m\n\u001b[0;32m     18\u001b[0m             sess.run(relu5, feed_dict={learning_rate_tf:learning_rate, input_data_tensor:input_data, \n\u001b[1;32m---> 19\u001b[1;33m                                         rois_in:input_rois, num_rois_tf:len(input_rois)})\n\u001b[0m\u001b[0;32m     20\u001b[0m \u001b[1;33m\u001b[0m\u001b[0m\n\u001b[0;32m     21\u001b[0m \u001b[1;33m\u001b[0m\u001b[0m\n",
      "\u001b[1;32m/home/zack/packages/tensorflow/_python_build/tensorflow/python/client/session.py\u001b[0m in \u001b[0;36mrun\u001b[1;34m(self, fetches, feed_dict, options, run_metadata)\u001b[0m\n\u001b[0;32m    331\u001b[0m     \u001b[1;32mtry\u001b[0m\u001b[1;33m:\u001b[0m\u001b[1;33m\u001b[0m\u001b[0m\n\u001b[0;32m    332\u001b[0m       result = self._run(None, fetches, feed_dict, options_ptr,\n\u001b[1;32m--> 333\u001b[1;33m                          run_metadata_ptr)\n\u001b[0m\u001b[0;32m    334\u001b[0m       \u001b[1;32mif\u001b[0m \u001b[0mrun_metadata\u001b[0m\u001b[1;33m:\u001b[0m\u001b[1;33m\u001b[0m\u001b[0m\n\u001b[0;32m    335\u001b[0m         \u001b[0mproto_data\u001b[0m \u001b[1;33m=\u001b[0m \u001b[0mtf_session\u001b[0m\u001b[1;33m.\u001b[0m\u001b[0mTF_GetBuffer\u001b[0m\u001b[1;33m(\u001b[0m\u001b[0mrun_metadata_ptr\u001b[0m\u001b[1;33m)\u001b[0m\u001b[1;33m\u001b[0m\u001b[0m\n",
      "\u001b[1;32m/home/zack/packages/tensorflow/_python_build/tensorflow/python/client/session.py\u001b[0m in \u001b[0;36m_run\u001b[1;34m(self, handle, fetches, feed_dict, options, run_metadata)\u001b[0m\n\u001b[0;32m    571\u001b[0m     \u001b[1;32mtry\u001b[0m\u001b[1;33m:\u001b[0m\u001b[1;33m\u001b[0m\u001b[0m\n\u001b[0;32m    572\u001b[0m       results = self._do_run(handle, target_list, unique_fetches,\n\u001b[1;32m--> 573\u001b[1;33m                              feed_dict_string, options, run_metadata)\n\u001b[0m\u001b[0;32m    574\u001b[0m     \u001b[1;32mfinally\u001b[0m\u001b[1;33m:\u001b[0m\u001b[1;33m\u001b[0m\u001b[0m\n\u001b[0;32m    575\u001b[0m       \u001b[1;31m# The movers are no longer used. Delete them.\u001b[0m\u001b[1;33m\u001b[0m\u001b[1;33m\u001b[0m\u001b[0m\n",
      "\u001b[1;32m/home/zack/packages/tensorflow/_python_build/tensorflow/python/client/session.py\u001b[0m in \u001b[0;36m_do_run\u001b[1;34m(self, handle, target_list, fetch_list, feed_dict, options, run_metadata)\u001b[0m\n\u001b[0;32m    646\u001b[0m     \u001b[1;32mif\u001b[0m \u001b[0mhandle\u001b[0m \u001b[1;32mis\u001b[0m \u001b[1;32mNone\u001b[0m\u001b[1;33m:\u001b[0m\u001b[1;33m\u001b[0m\u001b[0m\n\u001b[0;32m    647\u001b[0m       return self._do_call(_run_fn, self._session, feed_dict, fetch_list,\n\u001b[1;32m--> 648\u001b[1;33m                            target_list, options, run_metadata)\n\u001b[0m\u001b[0;32m    649\u001b[0m     \u001b[1;32melse\u001b[0m\u001b[1;33m:\u001b[0m\u001b[1;33m\u001b[0m\u001b[0m\n\u001b[0;32m    650\u001b[0m       return self._do_call(_prun_fn, self._session, handle, feed_dict,\n",
      "\u001b[1;32m/home/zack/packages/tensorflow/_python_build/tensorflow/python/client/session.py\u001b[0m in \u001b[0;36m_do_call\u001b[1;34m(self, fn, *args)\u001b[0m\n\u001b[0;32m    653\u001b[0m   \u001b[1;32mdef\u001b[0m \u001b[0m_do_call\u001b[0m\u001b[1;33m(\u001b[0m\u001b[0mself\u001b[0m\u001b[1;33m,\u001b[0m \u001b[0mfn\u001b[0m\u001b[1;33m,\u001b[0m \u001b[1;33m*\u001b[0m\u001b[0margs\u001b[0m\u001b[1;33m)\u001b[0m\u001b[1;33m:\u001b[0m\u001b[1;33m\u001b[0m\u001b[0m\n\u001b[0;32m    654\u001b[0m     \u001b[1;32mtry\u001b[0m\u001b[1;33m:\u001b[0m\u001b[1;33m\u001b[0m\u001b[0m\n\u001b[1;32m--> 655\u001b[1;33m       \u001b[1;32mreturn\u001b[0m \u001b[0mfn\u001b[0m\u001b[1;33m(\u001b[0m\u001b[1;33m*\u001b[0m\u001b[0margs\u001b[0m\u001b[1;33m)\u001b[0m\u001b[1;33m\u001b[0m\u001b[0m\n\u001b[0m\u001b[0;32m    656\u001b[0m     \u001b[1;32mexcept\u001b[0m \u001b[0merrors\u001b[0m\u001b[1;33m.\u001b[0m\u001b[0mOpError\u001b[0m \u001b[1;32mas\u001b[0m \u001b[0me\u001b[0m\u001b[1;33m:\u001b[0m\u001b[1;33m\u001b[0m\u001b[0m\n\u001b[0;32m    657\u001b[0m       \u001b[0mmessage\u001b[0m \u001b[1;33m=\u001b[0m \u001b[0mcompat\u001b[0m\u001b[1;33m.\u001b[0m\u001b[0mas_text\u001b[0m\u001b[1;33m(\u001b[0m\u001b[0me\u001b[0m\u001b[1;33m.\u001b[0m\u001b[0mmessage\u001b[0m\u001b[1;33m)\u001b[0m\u001b[1;33m\u001b[0m\u001b[0m\n",
      "\u001b[1;32m/home/zack/packages/tensorflow/_python_build/tensorflow/python/client/session.py\u001b[0m in \u001b[0;36m_run_fn\u001b[1;34m(session, feed_dict, fetch_list, target_list, options, run_metadata)\u001b[0m\n\u001b[0;32m    635\u001b[0m         return tf_session.TF_Run(session, options,\n\u001b[0;32m    636\u001b[0m                                  \u001b[0mfeed_dict\u001b[0m\u001b[1;33m,\u001b[0m \u001b[0mfetch_list\u001b[0m\u001b[1;33m,\u001b[0m \u001b[0mtarget_list\u001b[0m\u001b[1;33m,\u001b[0m\u001b[1;33m\u001b[0m\u001b[0m\n\u001b[1;32m--> 637\u001b[1;33m                                  status, run_metadata)\n\u001b[0m\u001b[0;32m    638\u001b[0m \u001b[1;33m\u001b[0m\u001b[0m\n\u001b[0;32m    639\u001b[0m     \u001b[1;32mdef\u001b[0m \u001b[0m_prun_fn\u001b[0m\u001b[1;33m(\u001b[0m\u001b[0msession\u001b[0m\u001b[1;33m,\u001b[0m \u001b[0mhandle\u001b[0m\u001b[1;33m,\u001b[0m \u001b[0mfeed_dict\u001b[0m\u001b[1;33m,\u001b[0m \u001b[0mfetch_list\u001b[0m\u001b[1;33m)\u001b[0m\u001b[1;33m:\u001b[0m\u001b[1;33m\u001b[0m\u001b[0m\n",
      "\u001b[1;31mKeyboardInterrupt\u001b[0m: "
     ]
    }
   ],
   "source": [
    "train_sample_generator = VOC_import.get_train_sample()\n",
    "test_sample_generator = VOC_import.get_val_sample()\n",
    "\n",
    "times = []\n",
    "\n",
    "\n",
    "\n",
    "for i in range(1, 500, 10):\n",
    "    clk = time.time()\n",
    "    input_data = np.random.random((1, 224, 224, 3)).astype(np.float32)\n",
    "    input_rois = np.zeros((i,4))\n",
    "\n",
    "    for x in range(5):\n",
    "        learning_rate = .00008\n",
    "\n",
    "\n",
    "        with tf.device(\"/{}:0\".format(device)):\n",
    "            sess.run(relu5, feed_dict={learning_rate_tf:learning_rate, input_data_tensor:input_data, \n",
    "                                        rois_in:input_rois, num_rois_tf:len(input_rois)})\n",
    "\n",
    "\n",
    "\n",
    "    dt = time.time() - clk\n",
    "    print(\"{} iterations took {}\".format( i, dt ))\n",
    "    times.append(dt)"
   ]
  },
  {
   "cell_type": "code",
   "execution_count": null,
   "metadata": {
    "collapsed": false
   },
   "outputs": [],
   "source": [
    "plt.plot(range(1, 500, 10), times)"
   ]
  },
  {
   "cell_type": "code",
   "execution_count": 24,
   "metadata": {
    "collapsed": false
   },
   "outputs": [
    {
     "name": "stdout",
     "output_type": "stream",
     "text": [
      "1 iterations took 0.07808828353881836\n",
      "11 iterations took 0.14977312088012695\n",
      "21 iterations took 0.20688557624816895\n",
      "31 iterations took 0.2885770797729492\n",
      "41 iterations took 0.4523484706878662\n",
      "51 iterations took 0.43332910537719727\n",
      "61 iterations took 0.47906923294067383\n",
      "71 iterations took 0.5883502960205078\n",
      "81 iterations took 0.6316263675689697\n",
      "91 iterations took 0.6847646236419678\n",
      "101 iterations took 0.8035049438476562\n",
      "111 iterations took 0.8308851718902588\n",
      "121 iterations took 0.9043624401092529\n",
      "131 iterations took 1.0022730827331543\n",
      "141 iterations took 1.0630385875701904\n",
      "151 iterations took 1.1064717769622803\n",
      "161 iterations took 1.1693615913391113\n",
      "171 iterations took 1.2916560173034668\n",
      "181 iterations took 1.3341889381408691\n",
      "191 iterations took 1.3858215808868408\n",
      "201 iterations took 1.4564826488494873\n",
      "211 iterations took 1.5332489013671875\n",
      "221 iterations took 1.7846779823303223\n",
      "231 iterations took 1.6952788829803467\n",
      "241 iterations took 1.7555346488952637\n",
      "251 iterations took 1.8356547355651855\n",
      "261 iterations took 2.047079086303711\n",
      "271 iterations took 2.2249338626861572\n",
      "281 iterations took 2.2579474449157715\n",
      "291 iterations took 2.4697442054748535\n",
      "301 iterations took 2.159334659576416\n",
      "311 iterations took 2.220510959625244\n",
      "321 iterations took 2.377876043319702\n",
      "331 iterations took 2.3909897804260254\n",
      "341 iterations took 2.5081944465637207\n",
      "351 iterations took 2.5745725631713867\n",
      "361 iterations took 2.5827250480651855\n",
      "371 iterations took 2.666656494140625\n",
      "381 iterations took 2.739008665084839\n",
      "391 iterations took 2.7880587577819824\n",
      "401 iterations took 2.8510942459106445\n",
      "411 iterations took 3.0180106163024902\n",
      "421 iterations took 3.1643459796905518\n",
      "431 iterations took 3.1064603328704834\n",
      "441 iterations took 3.160381317138672\n",
      "451 iterations took 3.293875217437744\n",
      "461 iterations took 3.9526679515838623\n",
      "471 iterations took 3.723611831665039\n",
      "481 iterations took 3.5184953212738037\n",
      "491 iterations took 3.8328771591186523\n"
     ]
    }
   ],
   "source": [
    "train_sample_generator = VOC_import.get_train_sample()\n",
    "test_sample_generator = VOC_import.get_val_sample()\n",
    "\n",
    "times = []\n",
    "\n",
    "\n",
    "\n",
    "for i in range(1, 500, 10):\n",
    "    clk = time.time()\n",
    "    input_data = np.random.random((1, 224, 224, 3)).astype(np.float32)\n",
    "    input_rois = np.zeros((i,4))\n",
    "\n",
    "    for x in range(1):\n",
    "        learning_rate = .00008\n",
    "\n",
    "\n",
    "        with tf.device(\"/{}:0\".format(device)):\n",
    "            sess.run(cls_prob, feed_dict={learning_rate_tf:learning_rate, input_data_tensor:input_data, \n",
    "                                        rois_in:input_rois, num_rois_tf:len(input_rois)})\n",
    "\n",
    "\n",
    "\n",
    "    dt = time.time() - clk\n",
    "    print(\"{} iterations took {}\".format( i, dt ))\n",
    "    times.append(dt)"
   ]
  },
  {
   "cell_type": "code",
   "execution_count": 25,
   "metadata": {
    "collapsed": false
   },
   "outputs": [
    {
     "data": {
      "text/plain": [
       "[<matplotlib.lines.Line2D at 0x7f6d80200278>]"
      ]
     },
     "execution_count": 25,
     "metadata": {},
     "output_type": "execute_result"
    },
    {
     "data": {
      "image/png": "[encoded data removed]",
      "text/plain": [
       "<matplotlib.figure.Figure at 0x7f6d802d4cc0>"
      ]
     },
     "metadata": {},
     "output_type": "display_data"
    }
   ],
   "source": [
    "plt.plot(range(1, 500, 10), times)"
   ]
  },
  {
   "cell_type": "code",
   "execution_count": null,
   "metadata": {
    "collapsed": true
   },
   "outputs": [],
   "source": []
  },
  {
   "cell_type": "code",
   "execution_count": null,
   "metadata": {
    "collapsed": true
   },
   "outputs": [],
   "source": []
  },
  {
   "cell_type": "code",
   "execution_count": null,
   "metadata": {
    "collapsed": true
   },
   "outputs": [],
   "source": []
  },
  {
   "cell_type": "code",
   "execution_count": null,
   "metadata": {
    "collapsed": true
   },
   "outputs": [],
   "source": []
  },
  {
   "cell_type": "code",
   "execution_count": null,
   "metadata": {
    "collapsed": false
   },
   "outputs": [],
   "source": [
    "input_data, input_rois, input_classes = get_inputs(\"train\")\n",
    "input_rois.shape"
   ]
  },
  {
   "cell_type": "code",
   "execution_count": null,
   "metadata": {
    "collapsed": true
   },
   "outputs": [],
   "source": []
  },
  {
   "cell_type": "code",
   "execution_count": null,
   "metadata": {
    "collapsed": true
   },
   "outputs": [],
   "source": [
    "asdf"
   ]
  },
  {
   "cell_type": "code",
   "execution_count": null,
   "metadata": {
    "collapsed": false,
    "scrolled": true
   },
   "outputs": [],
   "source": [
    "%matplotlib notebook\n",
    "\n",
    "fig,ax1 = plt.subplots(1,1)\n",
    "ax2 = ax1.twinx()\n",
    "#ax3 = ax1.twinx()\n",
    "\n",
    "clk = time.time()\n",
    "\n",
    "\n",
    "while(True):\n",
    "    learning_rate = .00008\n",
    "\n",
    "    input_data, input_rois, input_classes = get_inputs(\"train\")\n",
    "    \n",
    "    if i % 100 == 10:\n",
    "        \n",
    "        print(\"running iteration {}. last iteration took {}\".format(i, time.time()-clk))\n",
    "        clk = time.time()\n",
    "        loss = sess.run(cross_entropy_loss, feed_dict={learning_rate_tf:learning_rate, input_data_tensor:input_data, \n",
    "                                    y_:input_classes, rois_in:input_rois})\n",
    "        \n",
    "        ax1.cla()\n",
    "        ax2.cla()\n",
    "        #ax3.cla()\n",
    "        ax1.plot(runningMeanFast(np.asarray(stats)[:, 1], 100), \"b\")\n",
    "        ax2.plot(runningMeanFast(np.asarray(stats)[:, 0], 100), \"r\")\n",
    "        ax2.plot(runningMeanFast(np.asarray(stats)[:, 3], 100), \"green\")\n",
    "        #ax3.plot(np.asarray(stats)[:, 2], \"black\")\n",
    "        ax1.set_ylabel('loss', color = \"b\")\n",
    "        ax2.set_ylabel(\"top_k_percent\", color=\"r\")\n",
    "        #ax3.set_ylabel(\"learning_rate\", color=\"black\")\n",
    "        fig.canvas.draw()\n",
    "    \n",
    "    elif i % 5 == 0:\n",
    "        with tf.device(\"/{}:0\".format(device)):\n",
    "            train_stats = sess.run([top_k_percent, cross_entropy_loss, opt_op], feed_dict={learning_rate_tf:learning_rate, input_data_tensor:input_data, \n",
    "                                        y_:input_classes, rois_in:input_rois, num_rois_tf:len(input_rois)})\n",
    "            \n",
    "            input_data, input_rois, input_classes = get_inputs(\"test\")\n",
    "            test_stats = sess.run([top_k_percent], feed_dict={learning_rate_tf:learning_rate, input_data_tensor:input_data, \n",
    "                                        y_:input_classes, rois_in:input_rois, num_rois_tf:len(input_rois)})\n",
    "            \n",
    "            \n",
    "            stats.append(train_stats[:-1]+[learning_rate]+test_stats)\n",
    "    \n",
    "    else:\n",
    "        with tf.device(\"/{}:0\".format(device)):\n",
    "            sess.run(opt_op, feed_dict={learning_rate_tf:learning_rate, input_data_tensor:input_data, \n",
    "                                        y_:input_classes, rois_in:input_rois, num_rois_tf:len(input_rois)})\n",
    "\n",
    "    \n",
    "    \n",
    "    i += 1"
   ]
  },
  {
   "cell_type": "code",
   "execution_count": null,
   "metadata": {
    "collapsed": true
   },
   "outputs": [],
   "source": []
  },
  {
   "cell_type": "code",
   "execution_count": null,
   "metadata": {
    "collapsed": false
   },
   "outputs": [],
   "source": []
  },
  {
   "cell_type": "code",
   "execution_count": null,
   "metadata": {
    "collapsed": false
   },
   "outputs": [],
   "source": [
    "\n",
    "\n",
    "# Save stats and weights\n",
    "import pickle\n",
    "out = sess.run([W_fc6, W_fc7, b_fc6, b_fc7, W_cls, b_cls])\n",
    "\n",
    "with open(\"saved_weights_2\", \"wb\") as outfile:\n",
    "    pickle.dump(out, outfile)\n",
    "\n",
    "with open(\"train_stats_2\", \"wb\") as outfile:\n",
    "    pickle.dump(stats, outfile)"
   ]
  },
  {
   "cell_type": "code",
   "execution_count": null,
   "metadata": {
    "collapsed": false
   },
   "outputs": [],
   "source": []
  },
  {
   "cell_type": "code",
   "execution_count": null,
   "metadata": {
    "collapsed": true
   },
   "outputs": [],
   "source": [
    "saver = tf.train.Saver()"
   ]
  },
  {
   "cell_type": "code",
   "execution_count": null,
   "metadata": {
    "collapsed": false
   },
   "outputs": [],
   "source": [
    "save_path = saver.save(sess, \"model_2.ckpt\")"
   ]
  },
  {
   "cell_type": "code",
   "execution_count": null,
   "metadata": {
    "collapsed": true
   },
   "outputs": [],
   "source": []
  }
 ],
 "metadata": {
  "kernelspec": {
   "display_name": "Python 3",
   "language": "python",
   "name": "python3"
  },
  "language_info": {
   "codemirror_mode": {
    "name": "ipython",
    "version": 3
   },
   "file_extension": ".py",
   "mimetype": "text/x-python",
   "name": "python",
   "nbconvert_exporter": "python",
   "pygments_lexer": "ipython3",
   "version": "3.5.1+"
  },
  "widgets": {
   "state": {},
   "version": "1.1.2"
  }
 },
 "nbformat": 4,
 "nbformat_minor": 0
}
