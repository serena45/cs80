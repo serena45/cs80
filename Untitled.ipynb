{
 "cells": [
  {
   "cell_type": "code",
   "execution_count": 4,
   "metadata": {
    "collapsed": false
   },
   "outputs": [],
   "source": [
    "import sys\n",
    "sys.path.append(\"/home/zack/packages/fast-rcnn/caffe-fast-rcnn/python\")\n",
    "import caffe\n",
    "\n",
    "caffe.set_mode_cpu()\n",
    "net = caffe.Net('testorig.prototxt', 'vgg_cnn_m_1024_fast_rcnn_iter_40000.caffemodel', caffe.TEST)\n",
    "print(\"blobs {}\\nparams {}\".format(net.blobs.keys(), net.params.keys()))"
   ]
  },
  {
   "cell_type": "code",
   "execution_count": 5,
   "metadata": {
    "collapsed": false
   },
   "outputs": [],
   "source": []
  },
  {
   "cell_type": "code",
   "execution_count": 6,
   "metadata": {
    "collapsed": false
   },
   "outputs": [
    {
     "name": "stdout",
     "output_type": "stream",
     "text": [
      "blobs ['data', 'rois', 'conv1', 'norm1', 'pool1', 'conv2', 'norm2', 'pool2', 'conv3', 'conv4', 'conv5', 'pool5', 'fc6', 'fc7', 'fc7_drop7_0_split_0', 'fc7_drop7_0_split_1', 'cls_score', 'bbox_pred', 'cls_prob']\n",
      "params ['conv1', 'conv2', 'conv3', 'conv4', 'conv5', 'fc6', 'fc7', 'cls_score', 'bbox_pred']\n"
     ]
    }
   ],
   "source": []
  },
  {
   "cell_type": "code",
   "execution_count": 17,
   "metadata": {
    "collapsed": false
   },
   "outputs": [
    {
     "ename": "TypeError",
     "evalue": "'Blob' object does not support indexing",
     "output_type": "error",
     "traceback": [
      "\u001b[1;31m---------------------------------------------------------------------------\u001b[0m",
      "\u001b[1;31mTypeError\u001b[0m                                 Traceback (most recent call last)",
      "\u001b[1;32m<ipython-input-17-34da7604fc3a>\u001b[0m in \u001b[0;36m<module>\u001b[1;34m()\u001b[0m\n\u001b[1;32m----> 1\u001b[1;33m \u001b[0mnet\u001b[0m\u001b[1;33m.\u001b[0m\u001b[0mblobs\u001b[0m\u001b[1;33m[\u001b[0m\u001b[1;34m\"data\"\u001b[0m\u001b[1;33m]\u001b[0m\u001b[1;33m[\u001b[0m\u001b[1;36m0\u001b[0m\u001b[1;33m]\u001b[0m\u001b[1;33m.\u001b[0m\u001b[0mdata\u001b[0m\u001b[1;33m\u001b[0m\u001b[0m\n\u001b[0m",
      "\u001b[1;31mTypeError\u001b[0m: 'Blob' object does not support indexing"
     ]
    }
   ],
   "source": [
    "net.blobs[\"data\"][0].data"
   ]
  },
  {
   "cell_type": "code",
   "execution_count": 16,
   "metadata": {
    "collapsed": false
   },
   "outputs": [
    {
     "data": {
      "text/plain": [
       "{'bbox_pred': array([[  0.00000000e+00,   0.00000000e+00,   0.00000000e+00,\n",
       "           0.00000000e+00,   5.29512540e-02,   1.76586211e-02,\n",
       "           2.45672286e-01,   1.46401167e-01,   6.80825487e-02,\n",
       "          -2.25706841e-03,   1.64623320e-01,   2.40162015e-04,\n",
       "           2.34930143e-02,  -7.43576512e-02,  -9.25567094e-03,\n",
       "           8.50446820e-02,   2.89704297e-02,  -3.44399102e-02,\n",
       "           1.13033421e-01,   2.98255682e-01,   2.85448097e-02,\n",
       "          -2.82980446e-02,   7.01237991e-02,   3.11839759e-01,\n",
       "           2.56583448e-02,   7.19533022e-03,   2.71125823e-01,\n",
       "           2.64434099e-01,   1.91988107e-02,  -5.20649701e-02,\n",
       "           2.69120514e-01,   5.11898547e-02,   3.27459611e-02,\n",
       "          -3.81702892e-02,   1.64938301e-01,   1.19467720e-01,\n",
       "           5.56002669e-02,  -1.89620741e-02,   1.44438982e-01,\n",
       "           2.07755119e-01,   4.64641638e-02,  -8.39269608e-02,\n",
       "           9.69348401e-02,   1.97356313e-01,   2.19795089e-02,\n",
       "          -1.16707101e-01,   3.20886731e-01,   2.57998854e-01,\n",
       "           4.59921695e-02,  -6.24406114e-02,   2.24305257e-01,\n",
       "           6.95727691e-02,   5.65691441e-02,  -2.15844996e-03,\n",
       "           1.48373663e-01,   1.63665146e-01,   5.14696650e-02,\n",
       "          -1.45841464e-02,   1.73973411e-01,   1.06093206e-01,\n",
       "           6.74272552e-02,  -6.40914217e-02,   1.84594281e-02,\n",
       "           1.49501070e-01,   5.75106479e-02,  -2.96915937e-02,\n",
       "           1.73493624e-01,   3.37910861e-01,   5.00113964e-02,\n",
       "          -4.61561456e-02,   1.13886200e-01,   1.90490365e-01,\n",
       "           3.29866782e-02,  -6.72304705e-02,   4.37050700e-01,\n",
       "           3.32536191e-01,   3.37233320e-02,  -6.85988963e-02,\n",
       "           4.10204232e-01,   1.65137649e-01,  -5.00736013e-03,\n",
       "           1.29849296e-02,   2.98480839e-01,   3.62257898e-01]], dtype=float32),\n",
       " 'cls_prob': array([[  9.99638915e-01,   1.39432575e-06,   9.02514969e-08,\n",
       "           2.40454450e-04,   1.23729260e-05,   9.22786455e-07,\n",
       "           1.11058409e-06,   1.26781060e-06,   4.28363563e-07,\n",
       "           1.78301934e-06,   4.42588935e-05,   1.23967061e-06,\n",
       "           8.35475191e-08,   2.17619089e-07,   7.24124121e-08,\n",
       "           1.00737861e-05,   2.50887570e-05,   1.33232679e-05,\n",
       "           4.82673727e-07,   1.99662418e-06,   4.11090832e-06]], dtype=float32)}"
      ]
     },
     "execution_count": 16,
     "metadata": {},
     "output_type": "execute_result"
    }
   ],
   "source": [
    "net.forward()"
   ]
  },
  {
   "cell_type": "code",
   "execution_count": null,
   "metadata": {
    "collapsed": true
   },
   "outputs": [],
   "source": []
  }
 ],
 "metadata": {
  "kernelspec": {
   "display_name": "Python 2.7",
   "language": "python",
   "name": "2.7"
  },
  "language_info": {
   "codemirror_mode": {
    "name": "ipython",
    "version": 2
   },
   "file_extension": ".py",
   "mimetype": "text/x-python",
   "name": "python",
   "nbconvert_exporter": "python",
   "pygments_lexer": "ipython2",
   "version": "2.7.11+"
  },
  "widgets": {
   "state": {},
   "version": "1.1.2"
  }
 },
 "nbformat": 4,
 "nbformat_minor": 0
}
