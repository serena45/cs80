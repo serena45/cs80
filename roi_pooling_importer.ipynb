{
 "cells": [
  {
   "cell_type": "code",
   "execution_count": 1,
   "metadata": {
    "collapsed": true
   },
   "outputs": [],
   "source": [
    "import tensorflow as tf\n",
    "from tensorflow.python.framework import ops\n",
    "from tensorflow.python.ops import array_ops"
   ]
  },
  {
   "cell_type": "code",
   "execution_count": null,
   "metadata": {
    "collapsed": true
   },
   "outputs": [],
   "source": []
  },
  {
   "cell_type": "code",
   "execution_count": 3,
   "metadata": {
    "collapsed": true
   },
   "outputs": [],
   "source": [
    "def import_roi_pooling_op(path_to_op_folder):\n",
    "    \n",
    "    # Import the forward op\n",
    "    roi_pooling_module = tf.load_op_library(path_to_op_folder + \"roi_pooling_op.so\")\n",
    "    roi_pooling_op = roi_pooling_module.roi_pooling\n",
    "\n",
    "    # Import the gradient op\n",
    "    roi_pooling__grad_module = tf.load_op_library(path_to_op_folder + \"roi_pooling_op_grad.so\")\n",
    "    roi_pooling_op_grad = roi_pooling__grad_module.roi_pooling_grad\n",
    "    \n",
    "    # Here we register our gradient op as the gradient function for our ROI pooling op. \n",
    "    @ops.RegisterGradient(\"RoiPooling\")\n",
    "    def _roi_pooling_grad(op, grad0, grad1):\n",
    "        # The input gradients are the gradients with respect to the outputs of the pooling layer\n",
    "        input_grad = grad0\n",
    "\n",
    "        # We need the argmax data to compute the gradient connections\n",
    "        argmax = op.outputs[1]\n",
    "\n",
    "        # Grab the shape of the inputs to the ROI pooling layer\n",
    "        input_shape = array_ops.shape(op.inputs[0])\n",
    "\n",
    "        # Compute the gradient\n",
    "        backprop_grad = roi_pooling_op_grad(input_grad, argmax, input_shape)\n",
    "\n",
    "        # Return the gradient for the feature map, but not for the other inputs\n",
    "        return [backprop_grad, None, None]\n",
    "    \n",
    "    return roi_pooling_op"
   ]
  },
  {
   "cell_type": "code",
   "execution_count": null,
   "metadata": {
    "collapsed": true
   },
   "outputs": [],
   "source": []
  }
 ],
 "metadata": {
  "kernelspec": {
   "display_name": "Python 2",
   "language": "python",
   "name": "python2"
  },
  "language_info": {
   "codemirror_mode": {
    "name": "ipython",
    "version": 2
   },
   "file_extension": ".py",
   "mimetype": "text/x-python",
   "name": "python",
   "nbconvert_exporter": "python",
   "pygments_lexer": "ipython2",
   "version": "2.7.12"
  },
  "widgets": {
   "state": {},
   "version": "1.1.1"
  }
 },
 "nbformat": 4,
 "nbformat_minor": 0
}
