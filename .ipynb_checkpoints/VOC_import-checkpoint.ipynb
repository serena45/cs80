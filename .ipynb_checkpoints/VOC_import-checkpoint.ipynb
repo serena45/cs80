{
 "cells": [
  {
   "cell_type": "code",
   "execution_count": 1,
   "metadata": {
    "collapsed": false
   },
   "outputs": [],
   "source": [
    "import os\n",
    "import numpy as np\n",
    "import skimage\n",
    "import skimage.io\n",
    "import skimage.transform\n",
    "\n",
    "import matplotlib.pyplot as plt\n",
    "%matplotlib inline\n",
    "import xml.etree.ElementTree as ET\n",
    "\n",
    "import random"
   ]
  },
  {
   "cell_type": "code",
   "execution_count": null,
   "metadata": {
    "collapsed": false
   },
   "outputs": [],
   "source": [
    "image_size = 224\n",
    "pixel_means = np.array([[[102.9801, 115.9465, 122.7717]]])"
   ]
  },
  {
   "cell_type": "code",
   "execution_count": 7,
   "metadata": {
    "collapsed": false
   },
   "outputs": [],
   "source": [
    "# PASCAL VOC Data import\n",
    "# DO NOT EDIT HERE! Modify in its own file\n",
    "home_dir = os.path.expanduser('~') + \"/\"\n",
    "datasets_dir = home_dir + \"projects/datasets/\"\n",
    "voc_2012_dir = datasets_dir + \"VOC2012/\"\n",
    "\n",
    "classes_to_index = {\"aeroplane\":1, \"bicycle\":2, \"boat\":3, \"bottle\":4, \"bus\":5, \"car\":6, \"cat\":7,\n",
    "\"chair\":8, \"cow\":9, \"diningtable\":10, \"dog\":11, \"horse\":12, \"motorbike\":13, \"person\":14,\n",
    "\"pottedplant\":15, \"sheep\":16, \"train\":17, \"tvmonitor\":18, \"sofa\":19, \"bird\":20}\n",
    "\n",
    "indexes_to_classes = [0]*21\n",
    "for key, value in classes_to_index.items():\n",
    "    indexes_to_classes[value] = key\n",
    "\n",
    "class bounding_box:\n",
    "    def __init__(self, class_name, xmin, xmax, ymin, ymax):\n",
    "        self.class_name = class_name\n",
    "        #self.bbox_coords = bbox_coords #xmax, xmin, ymax, ymin\n",
    "        self.xmin = xmin\n",
    "        self.xmax = xmax\n",
    "        self.ymin = ymin\n",
    "        self.ymax = ymax\n",
    "\n",
    "# Get list of training images\n",
    "train_filenames = []\n",
    "with open(voc_2012_dir + \"ImageSets/Main/train.txt\", \"r\") as file:\n",
    "    for line in file:\n",
    "        train_filenames.append(line.strip())\n",
    "        \n",
    "# Get list of validation images\n",
    "val_filenames = []\n",
    "with open(voc_2012_dir + \"ImageSets/Main/val.txt\", \"r\") as file:\n",
    "    for line in file:\n",
    "        val_filenames.append(line.strip())\n",
    "        \n",
    "# Read an annotation file, return a list of bounding boxes\n",
    "def get_bounding_boxes(filename):\n",
    "    bounding_boxes = []\n",
    "    xmldoc = ET.parse(voc_2012_dir + \"Annotations/{}.xml\".format(filename))\n",
    "    objects = xmldoc.findall('object')\n",
    "    for thing in objects:\n",
    "        name = thing.find('name').text\n",
    "        box = thing.find('bndbox')\n",
    "        xmax = int(box.find('xmax').text)\n",
    "        xmin = int(box.find('xmin').text)\n",
    "        ymax = int(box.find('ymax').text)\n",
    "        ymin = int(box.find('ymin').text)\n",
    "        bounding_boxes.append(bounding_box(name, xmin, xmax, ymin, ymax))\n",
    "    return bounding_boxes\n",
    "\n",
    "def get_rois(filename):\n",
    "    boxes = get_bounding_boxes(filename)\n",
    "    rois = []\n",
    "    classes = []\n",
    "    for box in boxes:\n",
    "        rois.append((box.xmin, box.ymin, box.ymax - box.ymin, box.xmax - box.xmin))\n",
    "        classes.append(classes_to_index[box.class_name])\n",
    "    return rois, classes\n",
    "\n",
    "memoized_images = {}\n",
    "num_to_memoize = 5000\n",
    "\n",
    "# Returns a [height, width, depth] image in RGB pixel order\n",
    "def read_jpeg_memoized(filename):\n",
    "    try:\n",
    "        image = memoized_images[filename]\n",
    "    except:\n",
    "        image = read_jpeg(filename)\n",
    "        if len(memoized_images) < num_to_memoize:\n",
    "            memoized_images[filename] = image\n",
    "    return image\n",
    "\n",
    "# Returns a [height, width, depth] image in RGB pixel order\n",
    "def read_jpeg(filename):\n",
    "    img = skimage.io.imread(voc_2012_dir + \"JPEGImages/{}.jpg\".format(filename))\n",
    "    # TODO maybe use the resize function below?\n",
    "    img = skimage.transform.resize(img, (image_size, image_size))\n",
    "    img_swapped = img[...,[2,1,0]]\n",
    "    img_swapped = (img_swapped * 255) - pixel_means\n",
    "    #image = cv2.imread(voc_2012_dir + \"JPEGImages/{}.jpg\".format(filename))\n",
    "    return img_swapped\n",
    "\n",
    "# Plots an image from either filename or numpy array. Optionally draws bounding boxes with class name labels\n",
    "def show_image(image, bounding_boxes = []):\n",
    "    if isinstance(image, str):\n",
    "        image = read_jpeg(image)\n",
    "    fig = plt.figure()\n",
    "    ax = fig.add_subplot(111, aspect='equal')\n",
    "    ax.imshow(image)\n",
    "    for box in bounding_boxes:\n",
    "        ax.add_patch(\n",
    "            patches.Rectangle(\n",
    "                (box.xmin,box.ymin),\n",
    "                box.xmax - box.xmin,\n",
    "                box.ymax - box.ymin,\n",
    "                fill=False, edgecolor=\"red\", linewidth=3    \n",
    "            ))\n",
    "        ax.text(box.xmin + 10,box.ymin + 30, box.class_name, fontsize=16, color = \"red\")\n",
    "    \n",
    "# Check if a bounding box has a size and shape similar to the desired dimension\n",
    "def check_bounding_box(bounding_box, desired_dimension):\n",
    "    x = bounding_box.xmin\n",
    "    y = bounding_box.ymin\n",
    "    width = bounding_box.xmax - bounding_box.xmin\n",
    "    height = bounding_box.ymax - bounding_box.ymin\n",
    "    shorter_dimension = min(width, height)\n",
    "    if (desired_dimension - shorter_dimension) / desired_dimension < .5:\n",
    "        if abs(width - height) / width < .5:\n",
    "            return True\n",
    "    return False\n",
    "            \n",
    "# Gets the des_dim x des_dimension scaled version of the top leftmost square of the given bounding box region of the image\n",
    "def crop_resize_image(image, bounding_box, desired_dimension):\n",
    "    x = bounding_box.xmin\n",
    "    y = bounding_box.ymin\n",
    "    width = bounding_box.xmax - bounding_box.xmin\n",
    "    height = bounding_box.ymax - bounding_box.ymin\n",
    "    shorter_dimension = min(width, height)\n",
    "    #if shorter_dimension > desired_dimension:\n",
    "    cropped_image = image[y:y+shorter_dimension, x:x+shorter_dimension]\n",
    "    resized_image = cv2.resize(cropped_image, (desired_dimension, desired_dimension))\n",
    "    return resized_image\n"
   ]
  },
  {
   "cell_type": "code",
   "execution_count": 6,
   "metadata": {
    "collapsed": true
   },
   "outputs": [],
   "source": [
    "#current_index = 0\n",
    "def get_train_sample():\n",
    "    while(True):\n",
    "        random.shuffle(train_filenames)\n",
    "        for filename in train_filenames:\n",
    "            read_image = read_jpeg_memoized(filename)\n",
    "            rois = get_rois(filename)\n",
    "            yield (read_image, rois)\n",
    "            \n",
    "#current_index = 0\n",
    "def get_val_sample():\n",
    "    while(True):\n",
    "        random.shuffle(val_filenames)\n",
    "        for filename in val_filenames:\n",
    "            read_image = read_jpeg_memoized(filename)\n",
    "            rois = get_rois(filename)\n",
    "            yield (read_image, rois)"
   ]
  },
  {
   "cell_type": "code",
   "execution_count": 10,
   "metadata": {
    "collapsed": false
   },
   "outputs": [
    {
     "data": {
      "text/plain": [
       "5717"
      ]
     },
     "execution_count": 10,
     "metadata": {},
     "output_type": "execute_result"
    }
   ],
   "source": [
    "len(train_filenames)"
   ]
  },
  {
   "cell_type": "code",
   "execution_count": 9,
   "metadata": {
    "collapsed": false
   },
   "outputs": [
    {
     "data": {
      "text/plain": [
       "5823"
      ]
     },
     "execution_count": 9,
     "metadata": {},
     "output_type": "execute_result"
    }
   ],
   "source": [
    "len(val_filenames)"
   ]
  },
  {
   "cell_type": "code",
   "execution_count": null,
   "metadata": {
    "collapsed": false,
    "scrolled": true
   },
   "outputs": [],
   "source": []
  },
  {
   "cell_type": "code",
   "execution_count": null,
   "metadata": {
    "collapsed": true
   },
   "outputs": [],
   "source": []
  }
 ],
 "metadata": {
  "kernelspec": {
   "display_name": "Python 3",
   "language": "python",
   "name": "python3"
  },
  "language_info": {
   "codemirror_mode": {
    "name": "ipython",
    "version": 3
   },
   "file_extension": ".py",
   "mimetype": "text/x-python",
   "name": "python",
   "nbconvert_exporter": "python",
   "pygments_lexer": "ipython3",
   "version": "3.5.1+"
  },
  "widgets": {
   "state": {},
   "version": "1.1.2"
  }
 },
 "nbformat": 4,
 "nbformat_minor": 0
}
